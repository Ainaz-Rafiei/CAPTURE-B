{
  "cells": [
    {
      "cell_type": "markdown",
      "metadata": {
        "id": "rqc6DidoIe_1"
      },
      "source": [
        "**​The PRISM model, developed by Paige AI and Microsoft Research, is a multi-modal generative foundation model designed for slide-level analysis of H&E-stained histopathology images. It utilizes Virchow tile embeddings and clinical report texts for pre-training, combining these embeddings into a single slide embedding to generate text-based diagnostic reports. These reports can be used for tasks such as cancer detection, sub-typing, and biomarker identification. The model's slide encoder can also be fine-tuned for specific classification tasks, leveraging both image and text data to enhance diagnostic performance and robustness**"
      ]
    },
    {
      "cell_type": "markdown",
      "metadata": {
        "id": "kWu2a12XI3KI"
      },
      "source": [
        "**Load PRISM MODEL**"
      ]
    },
    {
      "cell_type": "code",
      "execution_count": null,
      "metadata": {
        "id": "kRA4BoCgIssN"
      },
      "outputs": [],
      "source": [
        "# from huggingface_hub import login\n",
        "\n",
        "# login(token=\"\")\n"
      ]
    },
    {
      "cell_type": "code",
      "execution_count": null,
      "metadata": {
        "id": "7pUtOoYtpSVo"
      },
      "outputs": [],
      "source": [
        "import sys\n",
        "import torch\n",
        "from transformers import AutoModel\n",
        "from utils import VirchowTileEmbeddingExtractor, PrismProcessor\n",
        "import sys\n",
        "import importlib\n",
        "import utils\n",
        "from utils import TileExtractor"
      ]
    },
    {
      "cell_type": "code",
      "execution_count": null,
      "metadata": {},
      "outputs": [],
      "source": [
        "scripts_path = '/content/drive/MyDrive/scripts'\n",
        "if scripts_path not in sys.path:\n",
        "    sys.path.append(scripts_path)\n",
        "\n",
        "importlib.reload(utils)"
      ]
    },
    {
      "cell_type": "code",
      "execution_count": null,
      "metadata": {
        "colab": {
          "base_uri": "https://localhost:8080/"
        },
        "id": "RGwrHHgGItto",
        "outputId": "214d79fe-eed3-4128-9e61-80776ef3176f"
      },
      "outputs": [
        {
          "name": "stderr",
          "output_type": "stream",
          "text": [
            "/usr/local/lib/python3.11/dist-packages/huggingface_hub/utils/_auth.py:94: UserWarning: \n",
            "The secret `HF_TOKEN` does not exist in your Colab secrets.\n",
            "To authenticate with the Hugging Face Hub, create a token in your settings tab (https://huggingface.co/settings/tokens), set it as secret in your Google Colab and restart your session.\n",
            "You will be able to reuse this secret in all of your notebooks.\n",
            "Please note that authentication is recommended but still optional to access public models or datasets.\n",
            "  warnings.warn(\n",
            "BioGptForCausalLM has generative capabilities, as `prepare_inputs_for_generation` is explicitly overwritten. However, it doesn't directly inherit from `GenerationMixin`. From 👉v4.50👈 onwards, `PreTrainedModel` will NOT inherit from `GenerationMixin`, and this model will lose the ability to call `generate` and other related functions.\n",
            "  - If you're using `trust_remote_code=True`, you can get rid of this warning by loading the model with an auto class. See https://huggingface.co/docs/transformers/en/model_doc/auto#auto-classes\n",
            "  - If you are the owner of the model architecture code, please modify your model class such that it inherits from `GenerationMixin` (after `PreTrainedModel`, otherwise you'll get an exception).\n",
            "  - If you are not the owner of the model architecture class, please contact the model code owner to update it.\n"
          ]
        }
      ],
      "source": [
        "sys.path.append('/content/drive/MyDrive/scripts')\n",
        "\n",
        "model = AutoModel.from_pretrained('paige-ai/Prism', trust_remote_code=True)\n",
        "model = model.to('cuda')\n",
        "\n",
        "device = \"cuda\" if torch.cuda.is_available() else \"cpu\"\n",
        "prism_processor = PrismProcessor(model_name=\"paige-ai/Prism\", device=device)\n"
      ]
    },
    {
      "cell_type": "markdown",
      "metadata": {
        "id": "Ib3ZW6VyO0KR"
      },
      "source": [
        "**Initialize the VirchowTileEmbeddingExtractor**"
      ]
    },
    {
      "cell_type": "code",
      "execution_count": null,
      "metadata": {
        "colab": {
          "base_uri": "https://localhost:8080/"
        },
        "id": "oDSg1QtWOP0W",
        "outputId": "d1e09fd1-3567-43cb-9e38-fb1e186b0321"
      },
      "outputs": [
        {
          "name": "stdout",
          "output_type": "stream",
          "text": [
            "Embedding saved to: outputs/embeddings-virchow/tile_virchow_1.pth\n",
            "Loaded embedding shape: torch.Size([1, 2560])\n"
          ]
        }
      ],
      "source": [
        "virchow_extractor = VirchowTileEmbeddingExtractor(device=device)\n",
        "\n",
        "image_path = \"outputs/img-output/image_1.png\"\n",
        "save_path_virchow = \"outputs/embeddings-virchow/tile_virchow_1.pth\"\n",
        "virchow_extractor.extract_and_save_embedding(image_path, save_path_virchow)\n",
        "embedding_tensor = virchow_extractor.load_embedding(save_path_virchow)\n",
        "print(f\"Loaded embedding shape: {embedding_tensor.shape}\")\n"
      ]
    },
    {
      "cell_type": "markdown",
      "metadata": {
        "id": "iGIao0DtJCu2"
      },
      "source": [
        "**Use generated tile embedding from WSI**"
      ]
    },
    {
      "cell_type": "markdown",
      "metadata": {
        "id": "XUkFvt_AOba5"
      },
      "source": [
        "1.Tile-Embedding"
      ]
    },
    {
      "cell_type": "code",
      "execution_count": null,
      "metadata": {
        "colab": {
          "base_uri": "https://localhost:8080/"
        },
        "id": "pg-OEp0NJEGb",
        "outputId": "280df2d3-b67f-40e0-ea14-6bb8f0f57543"
      },
      "outputs": [
        {
          "name": "stdout",
          "output_type": "stream",
          "text": [
            "Loaded embedding data keys: dict_keys(['embedding'])\n",
            "Tile embeddings shape: torch.Size([1, 1, 2560])\n"
          ]
        }
      ],
      "source": [
        "tile_sample_path = \"outputs/embeddings-virchow/tile_virchow_1.pth\"\n",
        "tile_embeddings = prism_processor.load_tile_embeddings(tile_sample_path)"
      ]
    },
    {
      "cell_type": "markdown",
      "metadata": {
        "id": "Ciby4V9kOdR0"
      },
      "source": [
        "2.Virchow Tile-Embedding"
      ]
    },
    {
      "cell_type": "code",
      "execution_count": null,
      "metadata": {
        "id": "lPQvdy3cONWC"
      },
      "outputs": [],
      "source": [
        "# tile_embeddings = embedding_tensor.unsqueeze(0).to(device)  # Adding batch dimension and moving to device\n",
        "# print(f\"Tile embeddings shape: {tile_embeddings.shape}\")  # (batch_size, tile_seq_len, tile_embed_dim)\n"
      ]
    },
    {
      "cell_type": "markdown",
      "metadata": {
        "id": "JtL0BSraJLBJ"
      },
      "source": [
        "**Compute slide embedding | laten features**"
      ]
    },
    {
      "cell_type": "code",
      "execution_count": null,
      "metadata": {
        "colab": {
          "base_uri": "https://localhost:8080/"
        },
        "id": "I0KW5gHAJLm3",
        "outputId": "197093be-d2bc-42dd-b04f-d0e1a8acb545"
      },
      "outputs": [
        {
          "name": "stderr",
          "output_type": "stream",
          "text": [
            "/usr/lib/python3.11/contextlib.py:105: FutureWarning: `torch.backends.cuda.sdp_kernel()` is deprecated. In the future, this context manager will be removed. Please see `torch.nn.attention.sdpa_kernel()` for the new context manager, with updated signature.\n",
            "  self.gen = func(*args, **kwds)\n"
          ]
        },
        {
          "name": "stdout",
          "output_type": "stream",
          "text": [
            "Slide image embedding shape: torch.Size([1, 1280])\n",
            "Slide image latents shape: torch.Size([1, 512, 1280])\n"
          ]
        }
      ],
      "source": [
        "reprs = prism_processor.extract_slide_representations(tile_embeddings)"
      ]
    },
    {
      "cell_type": "markdown",
      "metadata": {
        "id": "AluPVunOJvOV"
      },
      "source": [
        "**zero-shot prediction**:\n",
        "\n",
        "Invasive lobular carcinoma (ILC) and invasive ductal carcinoma (IDC) are both types of invasive breast cancer, but they originate from different parts of the breast tissue.\n",
        "\n",
        "IDC is the most common type of breast cancer, accounting for about 70-80% of all breast cancer cases.\n",
        "\n",
        "ILC is less common than IDC, making up about 10-15% of breast cancers."
      ]
    },
    {
      "cell_type": "code",
      "execution_count": null,
      "metadata": {
        "colab": {
          "base_uri": "https://localhost:8080/"
        },
        "id": "5fRokWwRJyui",
        "outputId": "19c17266-d273-4454-9e61-f97d65efe16b"
      },
      "outputs": [
        {
          "name": "stdout",
          "output_type": "stream",
          "text": [
            "Zero-shot classification scores: tensor([[0.0422, 0.9578]], device='cuda:0')\n"
          ]
        }
      ],
      "source": [
        "neg_prompts = ['lobular carcinoma, invasive']\n",
        "pos_prompts = ['ductal carcinoma, invasive']\n",
        "scores = prism_processor.zero_shot_classification(reprs['image_embedding'], neg_prompts, pos_prompts)"
      ]
    },
    {
      "cell_type": "markdown",
      "metadata": {
        "id": "DK0V7ipuJ1B6"
      },
      "source": [
        "**Generate report**"
      ]
    },
    {
      "cell_type": "code",
      "execution_count": null,
      "metadata": {
        "colab": {
          "base_uri": "https://localhost:8080/"
        },
        "id": "DZa9QVdgJ1q9",
        "outputId": "beaa7de6-8fa9-4024-a2ae-2c833f2150ae"
      },
      "outputs": [
        {
          "name": "stdout",
          "output_type": "stream",
          "text": [
            "Generated caption: ['</s>Diagnosis: High-grade serous carcinoma of the ovary, fallopian tube, and peritoneum. </s>']\n"
          ]
        }
      ],
      "source": [
        "generated_caption = prism_processor.generate_caption(reprs['image_latents'])"
      ]
    },
    {
      "cell_type": "markdown",
      "metadata": {
        "id": "JuReIFzHLiyX"
      },
      "source": [
        "**- logits:probabilities of the next token (word) in a sequence.**\n",
        "\n",
        "**- text_embedding :representation of the input text (caption)**\n",
        "\n",
        "**- image_embedding: numerical representation of the input image.**\n",
        "\n",
        "**- image_latents:ntermediate representations generated by the Perceiver part of the PRISM model.**\n"
      ]
    },
    {
      "cell_type": "code",
      "execution_count": null,
      "metadata": {
        "colab": {
          "base_uri": "https://localhost:8080/"
        },
        "id": "FN6TmuziJ4T5",
        "outputId": "14259f92-6767-496d-9f4c-12565977fa89"
      },
      "outputs": [
        {
          "name": "stdout",
          "output_type": "stream",
          "text": [
            "Model output keys: dict_keys(['logits', 'text_embedding', 'image_embedding', 'image_latents', 'sim'])\n"
          ]
        }
      ],
      "source": [
        "caption = 'Breast tissue with signs of lobular carcinoma'\n",
        "output = prism_processor.make_prediction(caption, tile_embeddings)"
      ]
    }
  ],
  "metadata": {
    "accelerator": "GPU",
    "colab": {
      "gpuType": "T4",
      "provenance": []
    },
    "kernelspec": {
      "display_name": "Python 3",
      "name": "python3"
    },
    "language_info": {
      "name": "python"
    }
  },
  "nbformat": 4,
  "nbformat_minor": 0
}
